{
 "cells": [
  {
   "cell_type": "code",
   "execution_count": 1,
   "metadata": {},
   "outputs": [],
   "source": [
    "#一次性窗口\n",
    "import PySimpleGUI as sg\n",
    "\n",
    "layout = [\n",
    "    [sg.Text('Enter a text:')],\n",
    "    [sg.InputText(key='-TEXT INPUT-')],\n",
    "    [sg.Button('OK', key='-OK-'), sg.Button('Cancel')]\n",
    "]\n",
    "window = sg.Window('Hello', layout)\n",
    "\n",
    "event, values = window.read()\n",
    "window.close()\n",
    "\n",
    "if event == '-OK-':\n",
    "    sg.Window(\n",
    "        'Result',\n",
    "        [[sg.Text(\"You wrote: \" + values['-TEXT INPUT-'])], [sg.Button('OK')]]\n",
    "    ).read(close=True)\n"
   ]
  },
  {
   "cell_type": "code",
   "execution_count": 4,
   "metadata": {},
   "outputs": [],
   "source": [
    "#持久窗口\n",
    "import PySimpleGUI as sg\n",
    "\n",
    "layout = [[sg.Text('Your typed chars appear here:'), sg.Text(key='-OUTPUT-')],\n",
    "          [sg.InputText(key='-IN-')],\n",
    "          [sg.Button('Show', key=\"-SHOW-\"), sg.Button('Exit', key=\"-EXIT-\")]]\n",
    "\n",
    "window = sg.Window('Window Title', layout)\n",
    "\n",
    "while True:\n",
    "    event, values = window.read()\n",
    "    print(event, values)\n",
    "    if event == sg.WIN_CLOSED or event == '-EXIT-':#sg.WIN_CLOSED为窗口关闭或用其它方式使窗口关闭时PySimpleGUI产生的事件的名称\n",
    "        break\n",
    "    if event == '-SHOW-':\n",
    "        window['-OUTPUT-'].update(values['-IN-'])\n",
    "\n",
    "window.close()"
   ]
  },
  {
   "cell_type": "markdown",
   "metadata": {},
   "source": [
    "第一个参数对于文本框、输入框、按钮等是要在组件里显示的文字。\n",
    "\n",
    "key：\n",
    "\n",
    "这个组件在 window[...]、event 和 values 里的名字。\n",
    "\n",
    "PySimpleGUI 官方推荐使用 -全大写 用空格 两面加短划线- 的格式，以便于看出来这是个 key。\n",
    "\n",
    "enable_events：布尔型。\n",
    "\n",
    "默认情况下，只有按下按钮和关闭窗口时产生事件，InputText 等不产生事件。\n",
    "\n",
    "把它设为 True 就可对于这个组件打开更多的事件。如 InputText 中设成 True 后在里面打字时就也会产生事件。\n",
    "\n",
    "不过这个依然不是打开全部的事件。 bind 可以打开其他一些 enable_events 没有打开的，之后再介绍吧（\n",
    "\n",
    "size：两个数字的元组，设定组件的尺寸。大多组件上是 (多少字宽，多少行高)，也有些的单位是像素。\n",
    "\n",
    "pad：\n",
    "\n",
    "两个数字的元组，设定在组件横向两侧和纵向两侧添加的边距，形如 (横, 纵)。\n",
    "\n",
    "如果想要不对称的，也可以 ((左, 右), (上, 下))。\n",
    "\n",
    "tooltip：字符串，当你把鼠标放上去的时候会显示小提示。\n",
    "\n",
    "font：\n",
    "\n",
    "三个元素的元组，格式是 (字符串型的字体名称, 数字型的字号, 字符串型的斜体等要求)\n",
    "\n",
    "字体名称……考虑到有些电脑可能没装某些字体，指定字体可能加载不出来，设成 \"Any\" 表示用默认字体即可。\n",
    "\n",
    "最后一个参数可以取 bold(粗体)、italic(斜体)、underline(下划线)、overstrike(删除线) 等，用多种时用空格分隔。\n",
    "\n",
    "colors：\n",
    "\n",
    "字符串，#RRGGBB 式十六进制数，设定颜色。大多数取色软件和网站都能给你这样格式的颜色十六进制数。\n",
    "\n",
    "也可以是一个两个字符串的元组，那时是 (文字颜色, 背景颜色) 的格式。\n",
    "\n",
    "visible：布尔型，设为 False 时隐藏组件。"
   ]
  }
 ],
 "metadata": {
  "kernelspec": {
   "display_name": "Python 3.10.7 64-bit",
   "language": "python",
   "name": "python3"
  },
  "language_info": {
   "codemirror_mode": {
    "name": "ipython",
    "version": 3
   },
   "file_extension": ".py",
   "mimetype": "text/x-python",
   "name": "python",
   "nbconvert_exporter": "python",
   "pygments_lexer": "ipython3",
   "version": "3.10.7"
  },
  "orig_nbformat": 4,
  "vscode": {
   "interpreter": {
    "hash": "3258836111220cc31a58de0d8ff8e32ff6917b9a39c3d2a985ef5c298647d4d1"
   }
  }
 },
 "nbformat": 4,
 "nbformat_minor": 2
}
