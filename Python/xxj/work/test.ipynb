{
 "cells": [
  {
   "cell_type": "code",
   "execution_count": 25,
   "metadata": {},
   "outputs": [
    {
     "data": {
      "text/plain": [
       "0       0.00%\n",
       "1       6.52%\n",
       "2       0.00%\n",
       "3       0.00%\n",
       "4       0.00%\n",
       "5       0.00%\n",
       "6     -10.21%\n",
       "7       0.00%\n",
       "8       1.36%\n",
       "9       0.67%\n",
       "10    -13.14%\n",
       "11     -5.13%\n",
       "12      0.00%\n",
       "13      0.00%\n",
       "14      0.00%\n",
       "15    -18.92%\n",
       "16     -6.67%\n",
       "17      0.00%\n",
       "18      0.00%\n",
       "19      0.00%\n",
       "20      0.00%\n",
       "21      0.00%\n",
       "22      0.00%\n",
       "23      0.00%\n",
       "24      0.00%\n",
       "25      0.00%\n",
       "26     -3.57%\n",
       "27     -3.71%\n",
       "28     -1.92%\n",
       "29      0.00%\n",
       "30      0.00%\n",
       "31      7.85%\n",
       "Name: pct_change, dtype: object"
      ]
     },
     "execution_count": 25,
     "metadata": {},
     "output_type": "execute_result"
    }
   ],
   "source": [
    "import pandas as pd\n",
    "import numpy as np\n",
    "import matplotlib as mpl\n",
    "from matplotlib import pyplot as plt\n",
    "import datetime\n",
    "import PySimpleGUI as sg\n",
    "from matplotlib.backends.backend_tkagg import FigureCanvasTkAgg, NavigationToolbar2Tk\n",
    "import tkinter as tk\n",
    "import time\n",
    "import sys\n",
    "import threading\n",
    "titles = ['七彩虹RTX3090 AD OC', \"七彩虹RTX3080Ti AD OC\", \"七彩虹RTX3080 AD OC\",\n",
    "          \"七彩虹RTX3070Ti AD OC\", \"七彩虹RTX3070 战斧 LHR\", \"七彩虹RTX3060Ti AD OC\",\n",
    "          \"七彩虹RTX3060 AD OC\", \"七彩虹RTX3050 Ultra W DUO OC\", \"七彩虹RTX2060 \",\n",
    "          \"七彩虹RTX2060 SUPER\"]\n",
    "data = pd.read_csv(r'D:\\program\\CODE\\Python\\xxj\\work\\显卡价格数据分析.csv')\n",
    "data2 = pd.read_csv(r'D:\\program\\CODE\\Python\\xxj\\work\\显卡价格数据分析2.csv')\n",
    "Df = data\n",
    "Df1=data\n",
    "    # .pct_change()返回变化百分比，第一行因没有可对比的，返回Nan，填充为0\n",
    "    # apply(lambda x: format(x, '.2%'))将小数点转换为百分数\n",
    "Df['pct_change']=Df[i].pct_change(1).fillna(0).apply(lambda x: format(x, '.2%'))\n",
    "Df['pct_change'].head()\n",
    "Df['pct_change']\n",
    "    "
   ]
  }
 ],
 "metadata": {
  "kernelspec": {
   "display_name": "Python 3.10.7 64-bit",
   "language": "python",
   "name": "python3"
  },
  "language_info": {
   "codemirror_mode": {
    "name": "ipython",
    "version": 3
   },
   "file_extension": ".py",
   "mimetype": "text/x-python",
   "name": "python",
   "nbconvert_exporter": "python",
   "pygments_lexer": "ipython3",
   "version": "3.10.7"
  },
  "orig_nbformat": 4,
  "vscode": {
   "interpreter": {
    "hash": "3258836111220cc31a58de0d8ff8e32ff6917b9a39c3d2a985ef5c298647d4d1"
   }
  }
 },
 "nbformat": 4,
 "nbformat_minor": 2
}
