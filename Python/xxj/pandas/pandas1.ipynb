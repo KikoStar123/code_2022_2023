{
 "cells": [
  {
   "cell_type": "code",
   "execution_count": 1,
   "metadata": {},
   "outputs": [
    {
     "data": {
      "text/plain": [
       "a    11\n",
       "b    12\n",
       "c    13\n",
       "d    14\n",
       "e    15\n",
       "f    16\n",
       "g    17\n",
       "dtype: int64"
      ]
     },
     "execution_count": 1,
     "metadata": {},
     "output_type": "execute_result"
    }
   ],
   "source": [
    "import pandas as pd\n",
    "mySeries = pd.Series(\n",
    "    data=[11,12,13,14,15,16,17,],\n",
    "    index=[\"a\",\"b\",\"c\",\"d\",\"e\",\"f\",\"g\"]\n",
    ")\n",
    "mySeries #创建序列"
   ]
  },
  {
   "cell_type": "code",
   "execution_count": null,
   "metadata": {},
   "outputs": [],
   "source": [
    "import pandas as pd\n",
    "mySeries1 = pd.Series(\n",
    "    data=[11,12,13,14,15,16,17,],\n",
    "    index=[\"a\",\"b\",\"c\",\"d\",\"e\",\"f\",\"g\"]\n",
    ")\n",
    "type(mySeries1.index) #创建序列\n",
    "mySeries1.index#索引\n",
    "mySeries1.values#值"
   ]
  },
  {
   "cell_type": "code",
   "execution_count": null,
   "metadata": {},
   "outputs": [],
   "source": [
    "#序列支持对索引的数字的切片 左开右闭\n",
    "print(mySeries1[1])\n",
    "print(mySeries1[0:3])\n",
    "print(mySeries1[0:6:2])\n",
    "print(mySeries1[0:3:-1])\n",
    "print(mySeries1['a':'d'])\n",
    "#print(mySeries1[11,12])#花式索引 此处的索引为闭区间"
   ]
  },
  {
   "cell_type": "code",
   "execution_count": null,
   "metadata": {},
   "outputs": [],
   "source": [
    "print('c'in mySeries1)\n",
    "print('h'in mySeries1)\n",
    "print(mySeries1.isin([12,15]))#得到布尔序列 查找值是否在12 15当中"
   ]
  },
  {
   "cell_type": "code",
   "execution_count": null,
   "metadata": {},
   "outputs": [],
   "source": [
    "mySeries2=mySeries1.reindex(\n",
    "    index=[\"b\",\"c\",\"d\",\"e\",\"f\",\"g\"]\n",
    ")#重排序列得到新序列\n",
    "print(mySeries2)"
   ]
  },
  {
   "cell_type": "code",
   "execution_count": null,
   "metadata": {},
   "outputs": [],
   "source": [
    "import pandas as pd\n",
    "mySeries1 = pd.Series(\n",
    "    data=[11,12,13,14,15,16,17,],\n",
    "    index=[\"a\",\"b\",\"c\",\"d\",\"e\",\"f\",\"g\"]\n",
    ")\n",
    "mySeries2=mySeries1.reindex(\n",
    "    index=[\"b\",\"c\",\"d\",\"e\",\"f\",\"g\"]\n",
    ")#重排序列得到新序列\n",
    "print(mySeries2)\n",
    "mySeries3=pd.Series([18])\n",
    "print(mySeries3)\n",
    "mySeries4=mySeries1.append(mySeries2,ignore_index=False)\n",
    "print(mySeries4)#合并1序列和2序列为一个新序列"
   ]
  },
  {
   "cell_type": "code",
   "execution_count": null,
   "metadata": {},
   "outputs": [],
   "source": [
    "mySeries5=mySeries1.drop(['a','b'])#删除索引为a b的数据"
   ]
  },
  {
   "cell_type": "code",
   "execution_count": null,
   "metadata": {},
   "outputs": [],
   "source": []
  }
 ],
 "metadata": {
  "kernelspec": {
   "display_name": "Python 3.10.7 64-bit",
   "language": "python",
   "name": "python3"
  },
  "language_info": {
   "codemirror_mode": {
    "name": "ipython",
    "version": 3
   },
   "file_extension": ".py",
   "mimetype": "text/x-python",
   "name": "python",
   "nbconvert_exporter": "python",
   "pygments_lexer": "ipython3",
   "version": "3.10.7"
  },
  "orig_nbformat": 4,
  "vscode": {
   "interpreter": {
    "hash": "3258836111220cc31a58de0d8ff8e32ff6917b9a39c3d2a985ef5c298647d4d1"
   }
  }
 },
 "nbformat": 4,
 "nbformat_minor": 2
}
