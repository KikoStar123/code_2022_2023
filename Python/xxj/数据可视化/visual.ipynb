{
 "cells": [
  {
   "cell_type": "markdown",
   "metadata": {},
   "source": [
    "数据可视化1\n",
    "BI 商业智能\n",
    "成分分析：饼图 圆环图 树状图\n",
    "排序 柱形图 条形图 气泡图\n",
    "时间序列 折线图 柱状图 \n",
    "频率分布 \n",
    "相关性 散点图 柱形图 旋风图 气泡图\n",
    "多重数据比较 雷达图-六边形图\n",
    "\n",
    "Python绘图包\n",
    "matplotlib\n",
    "Plotly动态图表\n",
    "Seaborn\n",
    "Bokeh\n",
    "Cufflinks\n",
    "Altair\n",
    "Pyecharts\n",
    "\n"
   ]
  },
  {
   "cell_type": "markdown",
   "metadata": {},
   "source": [
    "Matplotlib简介\n",
    "类似Matlab"
   ]
  },
  {
   "cell_type": "code",
   "execution_count": 2,
   "metadata": {},
   "outputs": [
    {
     "ename": "ModuleNotFoundError",
     "evalue": "No module named 'matlab.engine'; 'matlab' is not a package",
     "output_type": "error",
     "traceback": [
      "\u001b[1;31m---------------------------------------------------------------------------\u001b[0m",
      "\u001b[1;31mModuleNotFoundError\u001b[0m                       Traceback (most recent call last)",
      "Cell \u001b[1;32mIn [2], line 2\u001b[0m\n\u001b[0;32m      1\u001b[0m \u001b[39mimport\u001b[39;00m \u001b[39mmatplotlib\u001b[39;00m \u001b[39mas\u001b[39;00m \u001b[39mplot\u001b[39;00m\u001b[39m#matplotlib 源于MATLAB\u001b[39;00m\n\u001b[1;32m----> 2\u001b[0m \u001b[39mimport\u001b[39;00m \u001b[39mmatlab\u001b[39;00m\u001b[39m.\u001b[39;00m\u001b[39mengine\u001b[39;00m\n\u001b[0;32m      3\u001b[0m eng \u001b[39m=\u001b[39m matlab\u001b[39m.\u001b[39mengine\u001b[39m.\u001b[39mstart_matlab()\n\u001b[0;32m      4\u001b[0m tf \u001b[39m=\u001b[39m eng\u001b[39m.\u001b[39misprime(\u001b[39m37\u001b[39m)\n",
      "\u001b[1;31mModuleNotFoundError\u001b[0m: No module named 'matlab.engine'; 'matlab' is not a package"
     ]
    }
   ],
   "source": [
    "import matplotlib as plot#matplotlib 源于MATLAB\n",
    "import matlab.engine\n",
    "eng = matlab.engine.start_matlab()\n",
    "tf = eng.isprime(37)\n",
    "print(tf) #True"
   ]
  }
 ],
 "metadata": {
  "kernelspec": {
   "display_name": "Python 3.10.7 64-bit",
   "language": "python",
   "name": "python3"
  },
  "language_info": {
   "codemirror_mode": {
    "name": "ipython",
    "version": 3
   },
   "file_extension": ".py",
   "mimetype": "text/x-python",
   "name": "python",
   "nbconvert_exporter": "python",
   "pygments_lexer": "ipython3",
   "version": "3.10.7"
  },
  "orig_nbformat": 4,
  "vscode": {
   "interpreter": {
    "hash": "3258836111220cc31a58de0d8ff8e32ff6917b9a39c3d2a985ef5c298647d4d1"
   }
  }
 },
 "nbformat": 4,
 "nbformat_minor": 2
}
