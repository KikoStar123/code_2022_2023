{
 "cells": [
  {
   "attachments": {},
   "cell_type": "markdown",
   "metadata": {},
   "source": [
    "https://mirrors.cernet.edu.cn/site/PKU\n",
    "联合开源镜像站\n",
    "\n",
    "https://www.jianshu.com/p/cc10214b66cd\n",
    "基于gitlab CI 搭建前端页面预览服务\n",
    "\n",
    "https://blog.csdn.net/xumneg111/article/details/120710583\n",
    "gitlab的部署 与 web 界面的介绍与使用\n",
    "\n",
    "https://www.bilibili.com/read/cv11827497/\n",
    "一篇文章教你搭建一个前后端分离（gitlab-cicd+docker+vue+django）的自动化部署网站\n",
    "\n",
    "https://blog.csdn.net/wx17343624830/article/details/128137274\n",
    "手摸手教你 docker+jenkins+gitlab 部署你的前端项目\n",
    "\n",
    "https://blog.csdn.net/sinat_17775997/article/details/115700703\n",
    "Gitlab-ci:从零开始的前端自动化部署\n",
    "\n",
    "https://github.com/cdrx/rancher-gitlab-deploy\n",
    "Rancher GitLab Deployment Tool\n",
    "\n",
    "https://zhuanlan.zhihu.com/p/116103868\n",
    "使用Webhook实现前端项目自动发布"
   ]
  }
 ],
 "metadata": {
  "language_info": {
   "name": "python"
  },
  "orig_nbformat": 4
 },
 "nbformat": 4,
 "nbformat_minor": 2
}
